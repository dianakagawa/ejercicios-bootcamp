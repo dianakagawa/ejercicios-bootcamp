{
 "cells": [
  {
   "attachments": {},
   "cell_type": "markdown",
   "metadata": {},
   "source": [
    "# Este debe ser el ultimo archivo que completes!"
   ]
  },
  {
   "attachments": {},
   "cell_type": "markdown",
   "metadata": {},
   "source": [
    "# Challenge #1 🤺\n",
    "\n",
    "Crear una función que calcule la temperatura media de un día a partir de la temperatura máxima y mínima. Crear un programa principal, que utilizando la función anterior, vaya pidiendo la temperatura máxima y mínima de cada día y vaya mostrando la media. El programa pedirá el número de días que se van a introducir."
   ]
  },
  {
   "cell_type": "code",
   "execution_count": null,
   "metadata": {},
   "outputs": [],
   "source": []
  },
  {
   "attachments": {},
   "cell_type": "markdown",
   "metadata": {},
   "source": [
    "# Challenge #2 🤺\n",
    "\n",
    "La cantidad de segundos en un tiempo dado en horas, minutos y segundos. La cantidad de horas, minutos y segundos de un tiempo dado en segundos. Escribe un programa principal con un menú donde se pueda elegir la opción de convertir a segundos, convertir a horas,minutos y segundos o salir del programa."
   ]
  },
  {
   "cell_type": "code",
   "execution_count": null,
   "metadata": {},
   "outputs": [],
   "source": []
  },
  {
   "attachments": {},
   "cell_type": "markdown",
   "metadata": {},
   "source": [
    "# Challenge #3 🤺\n",
    "\n",
    "Ingresar por teclado el nombre y el signo de cualquier persona e imprima, el nombre solo si la persona es signo Leo"
   ]
  },
  {
   "cell_type": "code",
   "execution_count": null,
   "metadata": {},
   "outputs": [],
   "source": []
  },
  {
   "attachments": {},
   "cell_type": "markdown",
   "metadata": {},
   "source": [
    "# Challenge #4 🤺\n",
    "\n",
    "Definir una función `inversa()` que calcule la inversión de una cadena. Por ejemplo la cadena \"estoy probando\" debería devolver la cadena \"odnaborp yotse\""
   ]
  },
  {
   "cell_type": "code",
   "execution_count": null,
   "metadata": {},
   "outputs": [],
   "source": []
  },
  {
   "attachments": {},
   "cell_type": "markdown",
   "metadata": {},
   "source": [
    "# Challenge #5 🤺\n",
    "\n",
    "Definir una función `es_palindromo()` que reconoce palíndromos (es decir, palabras que tienen el mismo aspecto escritas invertidas), ejemplo: es_palindromo (\"radar\") tendría que devolver True."
   ]
  },
  {
   "cell_type": "code",
   "execution_count": null,
   "metadata": {},
   "outputs": [],
   "source": []
  },
  {
   "attachments": {},
   "cell_type": "markdown",
   "metadata": {},
   "source": [
    "# Challenge #5 🤺\n",
    "\n",
    "Crear un programa que pida por teclado deberán ser almacenados en una lista y mostrar en consola el mensaje:\n",
    "\n",
    "Los datos personales son:\n",
    "\n",
    "- Nombre: < nombre >\n",
    "- Apellido: < apellido >\n",
    "- Teléfono: < telefono >"
   ]
  },
  {
   "cell_type": "code",
   "execution_count": null,
   "metadata": {},
   "outputs": [],
   "source": []
  },
  {
   "attachments": {},
   "cell_type": "markdown",
   "metadata": {},
   "source": [
    "# Challenge #6 🤺\n",
    "\n",
    "Haz una calculadora básica pida al usuario dos valores, a y b.\n",
    "\n",
    "Según la opción que desean, realizar la operación:\n",
    "\n",
    "- Si operación es 1 entonces debemos ver el resultado de a + b\n",
    "- Si operación es 2 entonces debemos ver el resultado de a * b\n",
    "- Si operación es 3 entonces debemos ver el resultado de a - b\n",
    "- Si operación es 4 entonces debemos ver el resultado de a / b"
   ]
  },
  {
   "cell_type": "code",
   "execution_count": null,
   "metadata": {},
   "outputs": [],
   "source": []
  },
  {
   "attachments": {},
   "cell_type": "markdown",
   "metadata": {},
   "source": [
    "# Challenge #7 🤺\n",
    "\n",
    "Partiendo de la tarifa anual (que puede cambiar), nos piden que debemos calcular el precio de la tarifa de nuestro polideportivo, sabiendo las siguientes condiciones:\n",
    "\n",
    "- Criterio 1: Si es mayor de edad y está trabajando -> Paga el 100%\n",
    "- Criterio 2: Si es menor de edad y está trabajando -> Paga el 95%\n",
    "- Criterio 3: Si es mayor de edad y no está trabajando -> Paga el 75%\n",
    "- Criterio 4: Si es menor de edad y no está trabajando -> Paga el 50%"
   ]
  },
  {
   "cell_type": "code",
   "execution_count": null,
   "metadata": {},
   "outputs": [],
   "source": []
  },
  {
   "attachments": {},
   "cell_type": "markdown",
   "metadata": {},
   "source": [
    "# Challenge #8 🤺\n",
    "\n",
    "La pizzería Bella Napoli ofrece pizzas vegetarianas y no vegetarianas a sus clientes. Los ingredientes para cada tipo de pizza aparecen a continuación.\n",
    "\n",
    "- Ingredientes vegetarianos: Pimiento y tofu.\n",
    "- Ingredientes no vegetarianos: Peperoni, Jamón y Salmón.\n",
    "\n",
    "Escribir un programa que pregunte al usuario si quiere una pizza vegetariana o no y en función de su respuesta le muestre un menú con los ingredientes disponibles para que elija.\n",
    "\n",
    "Solo se puede eligir un ingrediente además de la mozzarella y el tomate que están en todas la pizzas.\n",
    "\n",
    "Al final se debe mostrar por pantalla si la pizza elegida es vegetariana o no y todos los ingredientes que lleva."
   ]
  },
  {
   "cell_type": "code",
   "execution_count": null,
   "metadata": {},
   "outputs": [],
   "source": []
  },
  {
   "attachments": {},
   "cell_type": "markdown",
   "metadata": {},
   "source": [
    "# Challenge #9🤺\n",
    "\n",
    "Crear una subrutina llamada “Login”, que recibe un nombre de usuario y una contraseña y te devuelve Verdadero si el nombre de usuario es “usuario1” y la contraseña es “asdasd”. Además recibe el número de intentos que se ha intentado hacer login y si no se ha podido hacer login incremente este valor.\n",
    "\n",
    "Crear un programa principal donde se pida un nombre de usuario y una contraseña y se intente hacer login, solamente tenemos tres oportunidades para intentarlo."
   ]
  },
  {
   "cell_type": "code",
   "execution_count": null,
   "metadata": {},
   "outputs": [],
   "source": []
  },
  {
   "attachments": {},
   "cell_type": "markdown",
   "metadata": {},
   "source": [
    "# Challenge #10🤺\n",
    "\n",
    "Escribir un programa que pida al usuario una palabra y luego muestre por pantalla una a una las letras de la palabra introducida empezando por la última."
   ]
  },
  {
   "cell_type": "code",
   "execution_count": null,
   "metadata": {},
   "outputs": [],
   "source": []
  },
  {
   "attachments": {},
   "cell_type": "markdown",
   "metadata": {},
   "source": [
    "# Challenge #11🤺\n",
    "\n",
    "Escribir un programa que muestre el eco de todo lo que el usuario introduzca hasta que el usuario escriba “salir” que terminará."
   ]
  },
  {
   "cell_type": "code",
   "execution_count": null,
   "metadata": {},
   "outputs": [],
   "source": []
  },
  {
   "attachments": {},
   "cell_type": "markdown",
   "metadata": {},
   "source": [
    "# The Ultimate Challenge #1.0🤺\n",
    "\n",
    "Una inmobiliaria de una ciudad maneja una lista de inmuebles como la siguiente:\n",
    "\n",
    "- La posición 0: año\n",
    "- La posición 1: metros cuadrados\n",
    "- La posición 2: número de habitaciones\n",
    "- La posición 3: si tiene garaje\n",
    "- La posición 4: zona\n",
    "\n",
    "[2000, 100, 3, True, 'A'],\n",
    "[2012, 60, 2, True, 'B'],\n",
    "[1980, 120, 4, False, 'A'],\n",
    "[2005, 75, 3, True, 'B'],\n",
    "[2015, 90, 2, False, 'A']\n",
    "\n",
    "Construir una función que permita hacer búsqueda de inmuebles en función de un presupuesto dado. La función recibirá como entrada la lista de inmuebles y un precio, y devolverá otra lista con los inmuebles cuyo precio sea menor o igual que el dado. Los inmuebles de la lista que se devuelva deben incorporar un nuevo par a cada diccionario con el precio del inmueble, donde el precio de un inmueble se calcula con las siguiente fórmula en función de la zona:\n",
    "\n",
    "Zona A: precio = (metros * 1000 + habitaciones * 5000 + garaje * 15000) * (1-antiguedad/100)\n",
    "Zona B: precio = (metros * 1000 + habitaciones * 5000 + garaje * 15000) * (1-antiguedad/100) * 1.5"
   ]
  },
  {
   "cell_type": "code",
   "execution_count": null,
   "metadata": {},
   "outputs": [],
   "source": []
  },
  {
   "attachments": {},
   "cell_type": "markdown",
   "metadata": {},
   "source": [
    "# The Ultimate Challenge #2.0🤺\n",
    "\n",
    "Vamos a crear un programa para trabajar con una lista.\n",
    "\n",
    "Para representar una lista vamos a utilizar una lista de cadenas de caracteres.\n",
    "\n",
    "Vamos a crear varias funciones para trabajar con la lista:\n",
    "\n",
    "\n",
    "`Longitudlista`: Función que recibe una lista y devuelve el número de elementos que tiene.\n",
    "\n",
    "`EstaVacialista`: Función que recibe una lista y que devuelve si la lista está vacía, no tiene elementos.\n",
    "\n",
    "`EstaLlenalista`: Función que recibe una lista y que devuelve si la lista está llena. \n",
    "\n",
    "`Addlista`: función que recibe una cadena de caracteres y una lista, y añade la cadena a la lista, si no está llena. si esta llena muestra un mensaje de error. \n",
    "\n",
    "`SacarDeLalista`: Función que recibe una lista y devuelve el último elemento añadido y lo borra de la lista. Si la lista está vacía muestra un mensaje de error. \n",
    "\n",
    "`Escribirlista`: Función que recibe una lista y muestra en pantalla los elementos de la lista. \n",
    "\n",
    "\n",
    "Realiza un programa principal que nos permita usar las funciones anterior, que nos muestre un menú, con las siguientes opciones:\n",
    "\n",
    "- 1- Añadir elemento a la lista\n",
    "- 2- Sacar elemento de la lista\n",
    "- 3- Longitud de la lista\n",
    "- 4- Mostrar lista\n",
    "- 5- Salir"
   ]
  }
 ],
 "metadata": {
  "kernelspec": {
   "display_name": "Python 3",
   "language": "python",
   "name": "python3"
  },
  "language_info": {
   "name": "python",
   "version": "3.10.6 (main, Nov 14 2022, 16:10:14) [GCC 11.3.0]"
  },
  "orig_nbformat": 4,
  "vscode": {
   "interpreter": {
    "hash": "916dbcbb3f70747c44a77c7bcd40155683ae19c65e1c03b4aa3499c5328201f1"
   }
  }
 },
 "nbformat": 4,
 "nbformat_minor": 2
}
